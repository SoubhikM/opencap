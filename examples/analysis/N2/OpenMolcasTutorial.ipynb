{
 "cells": [
  {
   "cell_type": "markdown",
   "metadata": {},
   "source": [
    "# PyOpenCAP and OpenMolcas\n",
    "In this tutorial we, post process results from an MS-CASPT2 calculation from OpenMolcas to perform CAP/MS-CASPT2 calculations on the ${}^2\\Pi_g$ shape resonance of $N_2^-$."
   ]
  },
  {
   "cell_type": "code",
   "execution_count": 1,
   "metadata": {},
   "outputs": [],
   "source": [
    "import pyopencap\n",
    "import numpy as np\n",
    "from pandas import DataFrame"
   ]
  },
  {
   "cell_type": "markdown",
   "metadata": {},
   "source": [
    "# Part 1: Post-processing results to compute CAP matrix using pyopencap"
   ]
  },
  {
   "cell_type": "markdown",
   "metadata": {},
   "source": [
    "## Constructing the system object\n",
    "The System object of PyOpenCAP contains the geometry and basis set information, as well as the overlap matrix. The constructor exposed to Python takes in a Python dictionary as an argument, with key/value pairs which mimic the input file format of the command line version. There are three equivalent ways of specifying the geometry and basis set: rassi_h5, molden, and inline. The \"inline\" option requires specifying a path to a basis set formatted in Psi4 style, which can be downloaded from the basis set exchange. Here, we’ll use the rassi_h5 file."
   ]
  },
  {
   "cell_type": "code",
   "execution_count": 2,
   "metadata": {},
   "outputs": [
    {
     "data": {
      "text/plain": [
       "(124, 124)"
      ]
     },
     "execution_count": 2,
     "metadata": {},
     "output_type": "execute_result"
    }
   ],
   "source": [
    "RASSI_FILE = \"ref_outputs/xms.rassi.h5\"\n",
    "OUTPUT_FILE = \"ref_outputs/xms.out\"\n",
    "sys_dict_inline = {\"geometry\":'''N        0.0     0.0     0.548757\n",
    "                    N        0.0     0.0     -0.548757\n",
    "                    X       0.0     0.0     0.0''',  # ghost atoms are indicated with X\n",
    "        \"basis_file\":\"basis.bas\",\n",
    "        \"molecule\": \"inline\"\n",
    "}\n",
    "sys_dict_molden = {\"molecule\": \"molden\",\"basis_file\": \"file.molden\"}\n",
    "sys_dict_rassi = {\"molecule\": \"molcas_rassi\",\"basis_file\": RASSI_FILE}\n",
    "s = pyopencap.System(sys_dict_rassi)\n",
    "smat = s.get_overlap_mat()\n",
    "np.shape(smat)"
   ]
  },
  {
   "cell_type": "markdown",
   "metadata": {},
   "source": [
    "## Constructing the CAP object\n",
    "The CAP matrix is computed by the “CAP” object. The constructor for the CAP object requires a System object, a dictionary containing the CAP parameters, and the number of states (10 in this case). We can compute and retrieve the CAP matrix in AO basis right now if we want to, but we need the 1RDMs and 1TDMs to perform the subspace projection. The returned CAP matrix in AO basis has a -1 prefactor."
   ]
  },
  {
   "cell_type": "code",
   "execution_count": 3,
   "metadata": {},
   "outputs": [],
   "source": [
    "cap_dict = {\"cap_type\": \"voronoi\",\n",
    "            \"r_cut\": \"3.00\"}\n",
    "pc = pyopencap.CAP(s,cap_dict,5)"
   ]
  },
  {
   "cell_type": "markdown",
   "metadata": {},
   "source": [
    "## Parsing electronic structure data from file\n",
    "\n",
    "The “read_data” function of the CAP object can read in the effective Hamiltonian and densities in one-shot when passed a Python dictionary with the right keywords. For now, we’ll retrieve the effective Hamiltonian and store it as h0 for later use."
   ]
  },
  {
   "cell_type": "code",
   "execution_count": 4,
   "metadata": {},
   "outputs": [
    {
     "name": "stdout",
     "output_type": "stream",
     "text": [
      "Successfully read in zeroth order Hamiltonian from file:ref_outputs/xms.out\n",
      "Reading densities from file:ref_outputs/xms.rassi.h5\n",
      "Done.\n",
      "Verified overlap matrix.\n",
      "Warning: TDM M-->N is assumed to be conjugate transpose of TDM N-->M where M>N\n",
      "Integration time:0.753860\n",
      "Calculating CAP matrix in AO basis using 8 threads.\n",
      "Radial precision: 1.00e-14 Angular points: 590\n",
      "Warning: rotating CAP matrix (U^dagger*W*U) using the following rotation matrix U:\n",
      " 1.00e+00  1.22e-05  3.30e-06  3.80e-07  1.10e-07\n",
      "-1.24e-05  9.95e-01  8.78e-02  5.34e-02  7.62e-03\n",
      "-2.13e-06 -9.58e-02  9.78e-01  1.66e-01  7.85e-02\n",
      " 6.40e-07 -3.77e-02 -1.66e-01  9.84e-01 -6.13e-02\n",
      " 1.90e-07 -2.38e-03 -8.81e-02  4.71e-02  9.95e-01\n"
     ]
    }
   ],
   "source": [
    "es_dict = { \"package\": \"openmolcas\",\n",
    "       \"method\" : \"ms-caspt2\",\n",
    "       \"molcas_output\":OUTPUT_FILE,\n",
    "       \"rassi_h5\":RASSI_FILE}\n",
    "pc.read_data(es_dict)\n",
    "h0 = pc.get_H()\n",
    "pc.compute_projected_cap()"
   ]
  },
  {
   "cell_type": "markdown",
   "metadata": {},
   "source": [
    "Once all of the densities are loaded, the CAP matrix is computed using the “compute_projected_cap” function. The matrix can be retrieved using the “get_projected_cap” function. The returned CAP matrix has a -1 prefactor."
   ]
  },
  {
   "cell_type": "code",
   "execution_count": 5,
   "metadata": {},
   "outputs": [
    {
     "name": "stdout",
     "output_type": "stream",
     "text": [
      "Warning: rotating CAP matrix (U^dagger*W*U) using the following rotation matrix U:\n",
      " 1.00e+00  1.22e-05  3.30e-06  3.80e-07  1.10e-07\n",
      "-1.24e-05  9.95e-01  8.78e-02  5.34e-02  7.62e-03\n",
      "-2.13e-06 -9.58e-02  9.78e-01  1.66e-01  7.85e-02\n",
      " 6.40e-07 -3.77e-02 -1.66e-01  9.84e-01 -6.13e-02\n",
      " 1.90e-07 -2.38e-03 -8.81e-02  4.71e-02  9.95e-01\n"
     ]
    }
   ],
   "source": [
    "pc.compute_projected_cap()\n",
    "W = pc.get_projected_cap()"
   ]
  },
  {
   "cell_type": "markdown",
   "metadata": {},
   "source": [
    "# Part 2: Eigenvalue trajectories using pyopencap.analysis submodule"
   ]
  },
  {
   "cell_type": "markdown",
   "metadata": {},
   "source": [
    "Now that we have our H0 and W matrices in state basis, let's generate and analyze eigenvalue trajectories."
   ]
  },
  {
   "cell_type": "code",
   "execution_count": 6,
   "metadata": {},
   "outputs": [],
   "source": [
    "from pyopencap.analysis import CAPHamiltonian\n",
    "import matplotlib.pyplot as plt"
   ]
  },
  {
   "cell_type": "markdown",
   "metadata": {},
   "source": [
    "The CAPHamiltonian object handles is our main tool for analyzing trajectories. It is constructured using the matrices we obtained in Part 1, or with the pc object."
   ]
  },
  {
   "cell_type": "code",
   "execution_count": 7,
   "metadata": {},
   "outputs": [],
   "source": [
    "CAPH = CAPHamiltonian(H0=h0,W=W)\n",
    "CAPH = CAPHamiltonian(pc=pc)"
   ]
  },
  {
   "cell_type": "markdown",
   "metadata": {},
   "source": [
    "The run_trajectory function is used to generate eigenvalue trajectories. The CAP Hamiltonian is diagonalized over the specified range of cap strength values, and the results are stored."
   ]
  },
  {
   "cell_type": "code",
   "execution_count": 10,
   "metadata": {},
   "outputs": [],
   "source": [
    "eta_list = np.linspace(0,2000,201)\n",
    "eta_list = np.around(eta_list * 1E-5,decimals=5)\n",
    "# remove ground state\n",
    "CAPH.run_trajectory(eta_list,exclude_states=[0])"
   ]
  },
  {
   "cell_type": "markdown",
   "metadata": {},
   "source": [
    "We can track each eigenstate using the \"track_state\" function. One can track states using either eigenvector overlap (\"overlap\") or energy (\"energy\")."
   ]
  },
  {
   "cell_type": "code",
   "execution_count": 11,
   "metadata": {},
   "outputs": [
    {
     "data": {
      "image/png": "[encoded data removed]",
      "text/plain": [
       "<Figure size 432x288 with 1 Axes>"
      ]
     },
     "metadata": {
      "needs_background": "light"
     },
     "output_type": "display_data"
    },
    {
     "data": {
      "image/png": "[encoded data removed]",
      "text/plain": [
       "<Figure size 432x288 with 1 Axes>"
      ]
     },
     "metadata": {
      "needs_background": "light"
     },
     "output_type": "display_data"
    },
    {
     "data": {
      "image/png": "[encoded data removed]",
      "text/plain": [
       "<Figure size 432x288 with 1 Axes>"
      ]
     },
     "metadata": {
      "needs_background": "light"
     },
     "output_type": "display_data"
    },
    {
     "data": {
      "image/png": "[encoded data removed]",
      "text/plain": [
       "<Figure size 432x288 with 1 Axes>"
      ]
     },
     "metadata": {
      "needs_background": "light"
     },
     "output_type": "display_data"
    }
   ],
   "source": [
    "# energy of first state, which is ground state\n",
    "ref_energy = np.min(CAPH.H0)\n",
    "for i in range(0,CAPH.nstates):\n",
    "    traj = CAPH.track_state(i,tracking=\"overlap\")\n",
    "    uc_energies = traj.energies_ev(ref_energy=ref_energy)\n",
    "    plt.plot(np.real(uc_energies),np.imag(uc_energies),'-ro',label=\"Uncorrected\")\n",
    "    plt.title(\"State:\" + str(i))\n",
    "    plt.legend()\n",
    "    plt.show()"
   ]
  },
  {
   "cell_type": "markdown",
   "metadata": {},
   "source": [
    "The 3rd (index 2) state is our resonance state, so let's retrieve it using \"track_state\", which returns an \"EigenvalueTrajectory\" object."
   ]
  },
  {
   "cell_type": "code",
   "execution_count": 12,
   "metadata": {},
   "outputs": [],
   "source": [
    "traj = CAPH.track_state(1,tracking=\"overlap\")"
   ]
  },
  {
   "cell_type": "markdown",
   "metadata": {},
   "source": [
    "The \"EigenvalueTrajectory\" object contains helpful functions for plotting, obtaining corrected trajectories, and for finding the optimal value of the CAP strength parameter for both uncorrected (red) and corrected (blue) trajectories."
   ]
  },
  {
   "cell_type": "code",
   "execution_count": 13,
   "metadata": {},
   "outputs": [
    {
     "name": "stdout",
     "output_type": "stream",
     "text": [
      "Uncorrected:\n",
      "(1.3604599905721726-0.19764234480511716j)\n",
      "0.0048\n",
      "Corrected:\n",
      "(1.3111115170737964-0.15065429708332223j)\n",
      "0.0089\n"
     ]
    },
    {
     "data": {
      "image/png": "[encoded data removed]",
      "text/plain": [
       "<Figure size 432x288 with 1 Axes>"
      ]
     },
     "metadata": {
      "needs_background": "light"
     },
     "output_type": "display_data"
    }
   ],
   "source": [
    "uc_energies = traj.energies_ev(ref_energy=ref_energy)\n",
    "corr_energies = traj.energies_ev(ref_energy=ref_energy,corrected=True)\n",
    "uc_energy, eta_opt = traj.find_eta_opt(start_idx=10)\n",
    "uc_energy = (uc_energy-ref_energy)*27.2114\n",
    "corr_energy, corr_eta_opt = traj.find_eta_opt(corrected=True,start_idx=10)\n",
    "corr_energy = (corr_energy-ref_energy)*27.2114\n",
    "print(\"Uncorrected:\")\n",
    "print(uc_energy)\n",
    "print(eta_opt)\n",
    "print(\"Corrected:\")\n",
    "print(corr_energy)\n",
    "print(corr_eta_opt)\n",
    "plt.plot(np.real(uc_energies),np.imag(uc_energies),'-ro',label=\"Uncorrected\")\n",
    "plt.plot(np.real(corr_energies),np.imag(corr_energies),'-bo',label=\"Corrected\")\n",
    "plt.plot(np.real(uc_energy),np.imag(uc_energy),'g*',markersize=20)\n",
    "plt.plot(np.real(corr_energy),np.imag(corr_energy),'g*',markersize=20)\n",
    "plt.legend()\n",
    "plt.show()"
   ]
  }
 ],
 "metadata": {
  "kernelspec": {
   "display_name": "Python 3 (ipykernel)",
   "language": "python",
   "name": "python3"
  },
  "language_info": {
   "codemirror_mode": {
    "name": "ipython",
    "version": 3
   },
   "file_extension": ".py",
   "mimetype": "text/x-python",
   "name": "python",
   "nbconvert_exporter": "python",
   "pygments_lexer": "ipython3",
   "version": "3.9.10"
  }
 },
 "nbformat": 4,
 "nbformat_minor": 4
}
